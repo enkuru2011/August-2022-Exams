{
 "cells": [
  {
   "cell_type": "code",
   "execution_count": 3,
   "id": "e373e958",
   "metadata": {},
   "outputs": [],
   "source": [
    "import numpy as np\n",
    "import pandas as pd\n"
   ]
  },
  {
   "cell_type": "code",
   "execution_count": 5,
   "id": "4e4b0916",
   "metadata": {},
   "outputs": [
    {
     "data": {
      "text/html": [
       "<div>\n",
       "<style scoped>\n",
       "    .dataframe tbody tr th:only-of-type {\n",
       "        vertical-align: middle;\n",
       "    }\n",
       "\n",
       "    .dataframe tbody tr th {\n",
       "        vertical-align: top;\n",
       "    }\n",
       "\n",
       "    .dataframe thead th {\n",
       "        text-align: right;\n",
       "    }\n",
       "</style>\n",
       "<table border=\"1\" class=\"dataframe\">\n",
       "  <thead>\n",
       "    <tr style=\"text-align: right;\">\n",
       "      <th></th>\n",
       "      <th>Name</th>\n",
       "      <th>Cases_cumulative total</th>\n",
       "      <th>Cases _newly reported in last 7 days</th>\n",
       "      <th>Cases _newly reported in last 24 hours</th>\n",
       "      <th>Deaths _cumulative total</th>\n",
       "    </tr>\n",
       "  </thead>\n",
       "  <tbody>\n",
       "    <tr>\n",
       "      <th>0</th>\n",
       "      <td>South Africa</td>\n",
       "      <td>1369426</td>\n",
       "      <td>91123</td>\n",
       "      <td>12710</td>\n",
       "      <td>38854</td>\n",
       "    </tr>\n",
       "    <tr>\n",
       "      <th>1</th>\n",
       "      <td>Ethiopia</td>\n",
       "      <td>132034</td>\n",
       "      <td>2589</td>\n",
       "      <td>307</td>\n",
       "      <td>2044</td>\n",
       "    </tr>\n",
       "    <tr>\n",
       "      <th>2</th>\n",
       "      <td>Nigeria</td>\n",
       "      <td>114691</td>\n",
       "      <td>10692</td>\n",
       "      <td>1386</td>\n",
       "      <td>1478</td>\n",
       "    </tr>\n",
       "    <tr>\n",
       "      <th>3</th>\n",
       "      <td>Algeria</td>\n",
       "      <td>104606</td>\n",
       "      <td>1965</td>\n",
       "      <td>265</td>\n",
       "      <td>2854</td>\n",
       "    </tr>\n",
       "    <tr>\n",
       "      <th>4</th>\n",
       "      <td>Kenya</td>\n",
       "      <td>99444</td>\n",
       "      <td>889</td>\n",
       "      <td>136</td>\n",
       "      <td>1736</td>\n",
       "    </tr>\n",
       "  </tbody>\n",
       "</table>\n",
       "</div>"
      ],
      "text/plain": [
       "           Name  Cases_cumulative total  Cases _newly reported in last 7 days  \\\n",
       "0  South Africa                 1369426                                 91123   \n",
       "1      Ethiopia                  132034                                  2589   \n",
       "2       Nigeria                  114691                                 10692   \n",
       "3       Algeria                  104606                                  1965   \n",
       "4         Kenya                   99444                                   889   \n",
       "\n",
       "   Cases _newly reported in last 24 hours  Deaths _cumulative total  \n",
       "0                                   12710                     38854  \n",
       "1                                     307                      2044  \n",
       "2                                    1386                      1478  \n",
       "3                                     265                      2854  \n",
       "4                                     136                      1736  "
      ]
     },
     "execution_count": 5,
     "metadata": {},
     "output_type": "execute_result"
    }
   ],
   "source": [
    "df= pd.read_csv(\"Africa_Covid.csv\", encoding=\"latin1\")\n",
    "df.head()"
   ]
  },
  {
   "cell_type": "code",
   "execution_count": null,
   "id": "9cda9aca",
   "metadata": {},
   "outputs": [],
   "source": []
  }
 ],
 "metadata": {
  "kernelspec": {
   "display_name": "Python 3 (ipykernel)",
   "language": "python",
   "name": "python3"
  },
  "language_info": {
   "codemirror_mode": {
    "name": "ipython",
    "version": 3
   },
   "file_extension": ".py",
   "mimetype": "text/x-python",
   "name": "python",
   "nbconvert_exporter": "python",
   "pygments_lexer": "ipython3",
   "version": "3.9.12"
  }
 },
 "nbformat": 4,
 "nbformat_minor": 5
}
