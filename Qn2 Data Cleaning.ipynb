{
 "cells": [
  {
   "cell_type": "markdown",
   "id": "1d3bbf0d",
   "metadata": {},
   "source": [
    "<h2>Data Mining End of Semester 2 Year 1 August 2022</h2><br><b>BY EDISON NKURUNUNGI</b><br><b>JAN22/COMP/959U</b>"
   ]
  },
  {
   "cell_type": "markdown",
   "id": "878582e3",
   "metadata": {},
   "source": [
    "<b>QUESTION 2</b>"
   ]
  },
  {
   "cell_type": "code",
   "execution_count": 1,
   "id": "a00e4713",
   "metadata": {},
   "outputs": [],
   "source": [
    "import requests\n",
    "import lxml.html as lh\n",
    "import pandas as pd\n",
    "import numpy as np"
   ]
  },
  {
   "cell_type": "code",
   "execution_count": 2,
   "id": "36a501db",
   "metadata": {},
   "outputs": [
    {
     "data": {
      "text/plain": [
       "[12, 12, 12, 12, 12, 12, 12, 12, 12, 12, 12, 12]"
      ]
     },
     "execution_count": 2,
     "metadata": {},
     "output_type": "execute_result"
    }
   ],
   "source": [
    "africa_url = 'https://www.worldometers.info/population/countries-in-africa-by-population/' #assign the wiki page\n",
    "\n",
    "page = requests.get(africa_url) # create a handle to for contents of the wiki page\n",
    "\n",
    "doc = lh.fromstring(page.content) # store content of the wiki page under doc\n",
    "\n",
    "tr_elements = doc.xpath('//tr') # parse data stored between tr in the html\n",
    "\n",
    "[len(T) for T in tr_elements[:12]] # check the length of the first 12"
   ]
  },
  {
   "cell_type": "code",
   "execution_count": 3,
   "id": "c95cbc81",
   "metadata": {},
   "outputs": [
    {
     "name": "stdout",
     "output_type": "stream",
     "text": [
      "1:#\n",
      "2:Country (or dependency)\n",
      "3:Population (2020)\n",
      "4:Yearly Change\n",
      "5:Net Change\n",
      "6:Density (P/Km²)\n",
      "7:Land Area (Km²)\n",
      "8:Migrants (net)\n",
      "9:Fert. Rate\n",
      "10:Med. Age\n",
      "11:Urban Pop %\n",
      "12:World Share\n"
     ]
    }
   ],
   "source": [
    "tr_elements = doc.xpath('//tr') # parse first row as header\n",
    "\n",
    "col = [] # create empty list\n",
    "i = 0\n",
    "\n",
    "for t in tr_elements[0]: # for each row, store each first element (header) and an empty list\n",
    "    i+=1\n",
    "    name=t.text_content()\n",
    "    print(\"%d:%s\" % (i,name))\n",
    "    col.append((name,[]))"
   ]
  },
  {
   "cell_type": "code",
   "execution_count": 4,
   "id": "2666f60c",
   "metadata": {},
   "outputs": [],
   "source": [
    "for j in range(1,len(tr_elements)): # Because header is the first row, data would be store in the subsequent rows.\n",
    "    T = tr_elements[j] #T is j'th row\n",
    "    \n",
    "    if len(T)!=12: #if row is not size 3, //tr data is not from the table.\n",
    "        break\n",
    "        \n",
    "    i = 0 #i is the index of the first column\n",
    "    \n",
    "    for t in T.iterchildren(): #iterate through each element of the row\n",
    "        data=t.text_content()\n",
    "            \n",
    "        col[i][1].append(data) #append the data to the empty list of the i'th column\n",
    "            \n",
    "        i+=1 #increment i for the next column"
   ]
  },
  {
   "cell_type": "code",
   "execution_count": 5,
   "id": "23aac4de",
   "metadata": {},
   "outputs": [
    {
     "data": {
      "text/plain": [
       "[58, 58, 58, 58, 58, 58, 58, 58, 58, 58, 58, 58]"
      ]
     },
     "execution_count": 5,
     "metadata": {},
     "output_type": "execute_result"
    }
   ],
   "source": [
    "[len(C) for (title,C) in col]"
   ]
  },
  {
   "cell_type": "code",
   "execution_count": 6,
   "id": "eb56dbf8",
   "metadata": {},
   "outputs": [],
   "source": [
    "Dict = {title:column for (title,column) in col}\n",
    "df = pd.DataFrame(Dict)"
   ]
  },
  {
   "cell_type": "code",
   "execution_count": 7,
   "id": "a41e1dd5",
   "metadata": {},
   "outputs": [
    {
     "data": {
      "text/html": [
       "<div>\n",
       "<style scoped>\n",
       "    .dataframe tbody tr th:only-of-type {\n",
       "        vertical-align: middle;\n",
       "    }\n",
       "\n",
       "    .dataframe tbody tr th {\n",
       "        vertical-align: top;\n",
       "    }\n",
       "\n",
       "    .dataframe thead th {\n",
       "        text-align: right;\n",
       "    }\n",
       "</style>\n",
       "<table border=\"1\" class=\"dataframe\">\n",
       "  <thead>\n",
       "    <tr style=\"text-align: right;\">\n",
       "      <th></th>\n",
       "      <th>#</th>\n",
       "      <th>Country (or dependency)</th>\n",
       "      <th>Population (2020)</th>\n",
       "      <th>Yearly Change</th>\n",
       "      <th>Net Change</th>\n",
       "      <th>Density (P/Km²)</th>\n",
       "      <th>Land Area (Km²)</th>\n",
       "      <th>Migrants (net)</th>\n",
       "      <th>Fert. Rate</th>\n",
       "      <th>Med. Age</th>\n",
       "      <th>Urban Pop %</th>\n",
       "      <th>World Share</th>\n",
       "    </tr>\n",
       "  </thead>\n",
       "  <tbody>\n",
       "    <tr>\n",
       "      <th>0</th>\n",
       "      <td>1</td>\n",
       "      <td>Nigeria</td>\n",
       "      <td>206,139,589</td>\n",
       "      <td>2.58 %</td>\n",
       "      <td>5,175,990</td>\n",
       "      <td>226</td>\n",
       "      <td>910,770</td>\n",
       "      <td>-60,000</td>\n",
       "      <td>5.4</td>\n",
       "      <td>18</td>\n",
       "      <td>52 %</td>\n",
       "      <td>2.64 %</td>\n",
       "    </tr>\n",
       "    <tr>\n",
       "      <th>1</th>\n",
       "      <td>2</td>\n",
       "      <td>Ethiopia</td>\n",
       "      <td>114,963,588</td>\n",
       "      <td>2.57 %</td>\n",
       "      <td>2,884,858</td>\n",
       "      <td>115</td>\n",
       "      <td>1,000,000</td>\n",
       "      <td>30,000</td>\n",
       "      <td>4.3</td>\n",
       "      <td>19</td>\n",
       "      <td>21 %</td>\n",
       "      <td>1.47 %</td>\n",
       "    </tr>\n",
       "    <tr>\n",
       "      <th>2</th>\n",
       "      <td>3</td>\n",
       "      <td>Egypt</td>\n",
       "      <td>102,334,404</td>\n",
       "      <td>1.94 %</td>\n",
       "      <td>1,946,331</td>\n",
       "      <td>103</td>\n",
       "      <td>995,450</td>\n",
       "      <td>-38,033</td>\n",
       "      <td>3.3</td>\n",
       "      <td>25</td>\n",
       "      <td>43 %</td>\n",
       "      <td>1.31 %</td>\n",
       "    </tr>\n",
       "    <tr>\n",
       "      <th>3</th>\n",
       "      <td>4</td>\n",
       "      <td>DR Congo</td>\n",
       "      <td>89,561,403</td>\n",
       "      <td>3.19 %</td>\n",
       "      <td>2,770,836</td>\n",
       "      <td>40</td>\n",
       "      <td>2,267,050</td>\n",
       "      <td>23,861</td>\n",
       "      <td>6.0</td>\n",
       "      <td>17</td>\n",
       "      <td>46 %</td>\n",
       "      <td>1.15 %</td>\n",
       "    </tr>\n",
       "    <tr>\n",
       "      <th>4</th>\n",
       "      <td>5</td>\n",
       "      <td>South Africa</td>\n",
       "      <td>59,308,690</td>\n",
       "      <td>1.28 %</td>\n",
       "      <td>750,420</td>\n",
       "      <td>49</td>\n",
       "      <td>1,213,090</td>\n",
       "      <td>145,405</td>\n",
       "      <td>2.4</td>\n",
       "      <td>28</td>\n",
       "      <td>67 %</td>\n",
       "      <td>0.76 %</td>\n",
       "    </tr>\n",
       "  </tbody>\n",
       "</table>\n",
       "</div>"
      ],
      "text/plain": [
       "   # Country (or dependency) Population (2020) Yearly Change Net Change  \\\n",
       "0  1                 Nigeria       206,139,589        2.58 %  5,175,990   \n",
       "1  2                Ethiopia       114,963,588        2.57 %  2,884,858   \n",
       "2  3                   Egypt       102,334,404        1.94 %  1,946,331   \n",
       "3  4                DR Congo        89,561,403        3.19 %  2,770,836   \n",
       "4  5            South Africa        59,308,690        1.28 %    750,420   \n",
       "\n",
       "  Density (P/Km²) Land Area (Km²) Migrants (net) Fert. Rate Med. Age  \\\n",
       "0             226         910,770        -60,000        5.4       18   \n",
       "1             115       1,000,000         30,000        4.3       19   \n",
       "2             103         995,450        -38,033        3.3       25   \n",
       "3              40       2,267,050         23,861        6.0       17   \n",
       "4              49       1,213,090        145,405        2.4       28   \n",
       "\n",
       "  Urban Pop % World Share  \n",
       "0        52 %      2.64 %  \n",
       "1        21 %      1.47 %  \n",
       "2        43 %      1.31 %  \n",
       "3        46 %      1.15 %  \n",
       "4        67 %      0.76 %  "
      ]
     },
     "execution_count": 7,
     "metadata": {},
     "output_type": "execute_result"
    }
   ],
   "source": [
    "df.head()"
   ]
  },
  {
   "cell_type": "markdown",
   "id": "2abb845c",
   "metadata": {},
   "source": [
    "<b>a) Clean the data set (5 marks)</b>"
   ]
  },
  {
   "cell_type": "markdown",
   "id": "163eb610",
   "metadata": {},
   "source": [
    "<p>Cleaning Empty Cells by removing rows that contain empty cells (our dataset has one record that has empty cells)</p>"
   ]
  },
  {
   "cell_type": "code",
   "execution_count": 9,
   "id": "c63e87db",
   "metadata": {},
   "outputs": [
    {
     "name": "stdout",
     "output_type": "stream",
     "text": [
      "     #   Country (or dependency) Population (2020) Yearly Change Net Change Density (P/Km²) Land Area (Km²) Migrants (net) Fert. Rate Med. Age Urban Pop % World Share\n",
      "0    1                   Nigeria       206,139,589        2.58 %  5,175,990             226         910,770        -60,000        5.4       18        52 %      2.64 %\n",
      "1    2                  Ethiopia       114,963,588        2.57 %  2,884,858             115       1,000,000         30,000        4.3       19        21 %      1.47 %\n",
      "2    3                     Egypt       102,334,404        1.94 %  1,946,331             103         995,450        -38,033        3.3       25        43 %      1.31 %\n",
      "3    4                  DR Congo        89,561,403        3.19 %  2,770,836              40       2,267,050         23,861        6.0       17        46 %      1.15 %\n",
      "4    5              South Africa        59,308,690        1.28 %    750,420              49       1,213,090        145,405        2.4       28        67 %      0.76 %\n",
      "5    6                  Tanzania        59,734,218        2.98 %  1,728,755              67         885,800        -40,076        4.9       18        37 %      0.77 %\n",
      "6    7                     Kenya        53,771,296        2.28 %  1,197,323              94         569,140        -10,000        3.5       20        28 %      0.69 %\n",
      "7    8                    Uganda        45,741,007        3.32 %  1,471,413             229         199,810        168,694        5.0       17        26 %      0.59 %\n",
      "8    9                   Algeria        43,851,044        1.85 %    797,990              18       2,381,740        -10,000        3.1       29        73 %      0.56 %\n",
      "9   10                     Sudan        43,849,260        2.42 %  1,036,022              25       1,765,048        -50,000        4.4       20        35 %      0.56 %\n",
      "10  11                   Morocco        36,910,560        1.20 %    438,791              83         446,300        -51,419        2.4       30        64 %      0.47 %\n",
      "11  12                    Angola        32,866,272        3.27 %  1,040,977              26       1,246,700          6,413        5.6       17        67 %      0.42 %\n",
      "12  13                     Ghana        31,072,940        2.15 %    655,084             137         227,540        -10,000        3.9       22        57 %      0.40 %\n",
      "13  14                Mozambique        31,255,435        2.93 %    889,399              40         786,380         -5,000        4.9       18        38 %      0.40 %\n",
      "14  15                Madagascar        27,691,018        2.68 %    721,711              48         581,795         -1,500        4.1       20        39 %      0.36 %\n",
      "15  16                  Cameroon        26,545,863        2.59 %    669,483              56         472,710         -4,800        4.6       19        56 %      0.34 %\n",
      "16  17             Côte d'Ivoire        26,378,274        2.57 %    661,730              83         318,000         -8,000        4.7       19        51 %      0.34 %\n",
      "17  18                     Niger        24,206,644        3.84 %    895,929              19       1,266,700          4,000        7.0       15        17 %      0.31 %\n",
      "18  19              Burkina Faso        20,903,273        2.86 %    581,895              76         273,600        -25,000        5.2       18        31 %      0.27 %\n",
      "19  20                      Mali        20,250,833        3.02 %    592,802              17       1,220,190        -40,000        5.9       16        44 %      0.26 %\n",
      "20  21                    Malawi        19,129,952        2.69 %    501,205             203          94,280        -16,053        4.3       18        18 %      0.25 %\n",
      "21  22                    Zambia        18,383,955        2.93 %    522,925              25         743,390         -8,000        4.7       18        45 %      0.24 %\n",
      "22  23                   Senegal        16,743,927        2.75 %    447,563              87         192,530        -20,000        4.7       19        49 %      0.21 %\n",
      "23  24                      Chad        16,425,864        3.00 %    478,988              13       1,259,200          2,000        5.8       17        23 %      0.21 %\n",
      "24  25                   Somalia        15,893,222        2.92 %    450,317              25         627,340        -40,000        6.1       17        47 %      0.20 %\n",
      "25  26                  Zimbabwe        14,862,924        1.48 %    217,456              38         386,850       -116,858        3.6       19        38 %      0.19 %\n",
      "26  27                    Guinea        13,132,795        2.83 %    361,549              53         245,720         -4,000        4.7       18        39 %      0.17 %\n",
      "27  28                    Rwanda        12,952,218        2.58 %    325,268             525          24,670         -9,000        4.1       20        18 %      0.17 %\n",
      "28  29                     Benin        12,123,200        2.73 %    322,049             108         112,760         -2,000        4.9       19        48 %      0.16 %\n",
      "29  30                   Tunisia        11,818,619        1.06 %    123,900              76         155,360         -4,000        2.2       33        70 %      0.15 %\n",
      "30  31                   Burundi        11,890,784        3.12 %    360,204             463          25,680          2,001        5.5       17        14 %      0.15 %\n",
      "31  32               South Sudan        11,193,725        1.19 %    131,612              18         610,952       -174,200        4.7       19        25 %      0.14 %\n",
      "32  33                      Togo         8,278,724        2.43 %    196,358             152          54,390         -2,000        4.4       19        43 %      0.11 %\n",
      "33  34              Sierra Leone         7,976,983        2.10 %    163,768             111          72,180         -4,200        4.3       19        43 %      0.10 %\n",
      "34  35                     Libya         6,871,292        1.38 %     93,840               4       1,759,540         -1,999        2.3       29        78 %      0.09 %\n",
      "35  36                     Congo         5,518,087        2.56 %    137,579              16         341,500         -4,000        4.5       19        70 %      0.07 %\n",
      "36  37                   Liberia         5,057,681        2.44 %    120,307              53          96,320         -5,000        4.4       19        53 %      0.06 %\n",
      "37  38  Central African Republic         4,829,767        1.78 %     84,582               8         622,980        -40,000        4.8       18        43 %      0.06 %\n",
      "38  39                Mauritania         4,649,658        2.74 %    123,962               5       1,030,700          5,000        4.6       20        57 %      0.06 %\n",
      "39  40                   Eritrea         3,546,421        1.41 %     49,304              35         101,000        -39,858        4.1       19        63 %      0.05 %\n",
      "40  41                   Namibia         2,540,905        1.86 %     46,375               3         823,290         -4,806        3.4       22        55 %      0.03 %\n",
      "41  42                    Gambia         2,416,668        2.94 %     68,962             239          10,120         -3,087        5.3       18        59 %      0.03 %\n",
      "42  43                  Botswana         2,351,627        2.08 %     47,930               4         566,730          3,000        2.9       24        73 %      0.03 %\n",
      "43  44                     Gabon         2,225,734        2.45 %     53,155               9         257,670          3,260        4.0       23        87 %      0.03 %\n",
      "44  45                   Lesotho         2,142,249        0.80 %     16,981              71          30,360        -10,047        3.2       24        31 %      0.03 %\n",
      "45  46             Guinea-Bissau         1,968,001        2.45 %     47,079              70          28,120         -1,399        4.5       19        45 %      0.03 %\n",
      "46  47         Equatorial Guinea         1,402,985        3.47 %     46,999              50          28,050         16,000        4.6       22        73 %      0.02 %\n",
      "47  48                 Mauritius         1,271,768        0.17 %      2,100             626           2,030              0        1.4       37        41 %      0.02 %\n",
      "48  49                  Eswatini         1,160,164        1.05 %     12,034              67          17,200         -8,353        3.0       21        30 %      0.01 %\n",
      "49  50                  Djibouti           988,000        1.48 %     14,440              43          23,180            900        2.8       27        79 %      0.01 %\n",
      "50  51                   Réunion           895,312        0.72 %      6,385             358           2,500         -1,256        2.3       36       100 %      0.01 %\n",
      "51  52                   Comoros           869,601        2.20 %     18,715             467           1,861         -2,000        4.2       20        29 %      0.01 %\n",
      "52  53            Western Sahara           597,339        2.55 %     14,876               2         266,000          5,582        2.4       28        87 %      0.01 %\n",
      "53  54                Cabo Verde           555,987        1.10 %      6,052             138           4,030         -1,342        2.3       28        68 %      0.01 %\n",
      "54  55                   Mayotte           272,815        2.50 %      6,665             728             375              0        3.7       20        46 %      0.00 %\n",
      "55  56       Sao Tome & Principe           219,159        1.91 %      4,103             228             960         -1,680        4.4       19        74 %      0.00 %\n",
      "56  57                Seychelles            98,347        0.62 %        608             214             460           -200        2.5       34        56 %      0.00 %\n",
      "57  58              Saint Helena             6,077        0.30 %         18              16             390                      N.A.     N.A.        27 %      0.00 %\n"
     ]
    }
   ],
   "source": [
    "new_df = df.dropna()\n",
    "\n",
    "print(new_df.to_string())"
   ]
  },
  {
   "cell_type": "markdown",
   "id": "7175a1b1",
   "metadata": {},
   "source": [
    "<p>Discover duplicates and remove them</p>"
   ]
  },
  {
   "cell_type": "code",
   "execution_count": 8,
   "id": "8c7a717d",
   "metadata": {},
   "outputs": [
    {
     "name": "stdout",
     "output_type": "stream",
     "text": [
      "0     False\n",
      "1     False\n",
      "2     False\n",
      "3     False\n",
      "4     False\n",
      "5     False\n",
      "6     False\n",
      "7     False\n",
      "8     False\n",
      "9     False\n",
      "10    False\n",
      "11    False\n",
      "12    False\n",
      "13    False\n",
      "14    False\n",
      "15    False\n",
      "16    False\n",
      "17    False\n",
      "18    False\n",
      "19    False\n",
      "20    False\n",
      "21    False\n",
      "22    False\n",
      "23    False\n",
      "24    False\n",
      "25    False\n",
      "26    False\n",
      "27    False\n",
      "28    False\n",
      "29    False\n",
      "30    False\n",
      "31    False\n",
      "32    False\n",
      "33    False\n",
      "34    False\n",
      "35    False\n",
      "36    False\n",
      "37    False\n",
      "38    False\n",
      "39    False\n",
      "40    False\n",
      "41    False\n",
      "42    False\n",
      "43    False\n",
      "44    False\n",
      "45    False\n",
      "46    False\n",
      "47    False\n",
      "48    False\n",
      "49    False\n",
      "50    False\n",
      "51    False\n",
      "52    False\n",
      "53    False\n",
      "54    False\n",
      "55    False\n",
      "56    False\n",
      "57    False\n",
      "dtype: bool\n"
     ]
    }
   ],
   "source": [
    "print(df.duplicated())"
   ]
  },
  {
   "cell_type": "markdown",
   "id": "ba8ec92e",
   "metadata": {},
   "source": [
    "<p>This implies that there are no duplicated records in the dataset</p>"
   ]
  },
  {
   "cell_type": "markdown",
   "id": "574d684e",
   "metadata": {},
   "source": [
    "<b>b) Write one line of code that can produce the Figure (1a). (5 marks)</b> "
   ]
  },
  {
   "cell_type": "code",
   "execution_count": 15,
   "id": "fac26534",
   "metadata": {},
   "outputs": [
    {
     "data": {
      "text/html": [
       "<div>\n",
       "<style scoped>\n",
       "    .dataframe tbody tr th:only-of-type {\n",
       "        vertical-align: middle;\n",
       "    }\n",
       "\n",
       "    .dataframe tbody tr th {\n",
       "        vertical-align: top;\n",
       "    }\n",
       "\n",
       "    .dataframe thead th {\n",
       "        text-align: right;\n",
       "    }\n",
       "</style>\n",
       "<table border=\"1\" class=\"dataframe\">\n",
       "  <thead>\n",
       "    <tr style=\"text-align: right;\">\n",
       "      <th></th>\n",
       "      <th>#</th>\n",
       "      <th>Country (or dependency)</th>\n",
       "      <th>Population (2020)</th>\n",
       "      <th>Yearly Change</th>\n",
       "      <th>Net Change</th>\n",
       "      <th>Density (P/Km²)</th>\n",
       "      <th>Land Area (Km²)</th>\n",
       "      <th>Migrants (net)</th>\n",
       "      <th>Fert. Rate</th>\n",
       "      <th>Med. Age</th>\n",
       "      <th>Urban Pop %</th>\n",
       "      <th>World Share</th>\n",
       "    </tr>\n",
       "  </thead>\n",
       "  <tbody>\n",
       "    <tr>\n",
       "      <th>count</th>\n",
       "      <td>58</td>\n",
       "      <td>58</td>\n",
       "      <td>58</td>\n",
       "      <td>58</td>\n",
       "      <td>58</td>\n",
       "      <td>58</td>\n",
       "      <td>58</td>\n",
       "      <td>58</td>\n",
       "      <td>58</td>\n",
       "      <td>58</td>\n",
       "      <td>58</td>\n",
       "      <td>58</td>\n",
       "    </tr>\n",
       "    <tr>\n",
       "      <th>unique</th>\n",
       "      <td>58</td>\n",
       "      <td>58</td>\n",
       "      <td>58</td>\n",
       "      <td>53</td>\n",
       "      <td>58</td>\n",
       "      <td>48</td>\n",
       "      <td>58</td>\n",
       "      <td>47</td>\n",
       "      <td>38</td>\n",
       "      <td>20</td>\n",
       "      <td>42</td>\n",
       "      <td>36</td>\n",
       "    </tr>\n",
       "    <tr>\n",
       "      <th>top</th>\n",
       "      <td>1</td>\n",
       "      <td>Nigeria</td>\n",
       "      <td>206,139,589</td>\n",
       "      <td>2.58 %</td>\n",
       "      <td>5,175,990</td>\n",
       "      <td>25</td>\n",
       "      <td>910,770</td>\n",
       "      <td>-2,000</td>\n",
       "      <td>4.7</td>\n",
       "      <td>19</td>\n",
       "      <td>43 %</td>\n",
       "      <td>0.01 %</td>\n",
       "    </tr>\n",
       "    <tr>\n",
       "      <th>freq</th>\n",
       "      <td>1</td>\n",
       "      <td>1</td>\n",
       "      <td>1</td>\n",
       "      <td>2</td>\n",
       "      <td>1</td>\n",
       "      <td>3</td>\n",
       "      <td>1</td>\n",
       "      <td>3</td>\n",
       "      <td>5</td>\n",
       "      <td>14</td>\n",
       "      <td>4</td>\n",
       "      <td>6</td>\n",
       "    </tr>\n",
       "  </tbody>\n",
       "</table>\n",
       "</div>"
      ],
      "text/plain": [
       "         # Country (or dependency) Population (2020) Yearly Change Net Change  \\\n",
       "count   58                      58                58            58         58   \n",
       "unique  58                      58                58            53         58   \n",
       "top      1                 Nigeria       206,139,589        2.58 %  5,175,990   \n",
       "freq     1                       1                 1             2          1   \n",
       "\n",
       "       Density (P/Km²) Land Area (Km²) Migrants (net) Fert. Rate Med. Age  \\\n",
       "count               58              58             58         58       58   \n",
       "unique              48              58             47         38       20   \n",
       "top                 25         910,770         -2,000        4.7       19   \n",
       "freq                 3               1              3          5       14   \n",
       "\n",
       "       Urban Pop % World Share  \n",
       "count           58          58  \n",
       "unique          42          36  \n",
       "top           43 %      0.01 %  \n",
       "freq             4           6  "
      ]
     },
     "execution_count": 15,
     "metadata": {},
     "output_type": "execute_result"
    }
   ],
   "source": [
    "new_df.describe()"
   ]
  },
  {
   "cell_type": "code",
   "execution_count": 16,
   "id": "68d09090",
   "metadata": {},
   "outputs": [
    {
     "data": {
      "text/html": [
       "<div>\n",
       "<style scoped>\n",
       "    .dataframe tbody tr th:only-of-type {\n",
       "        vertical-align: middle;\n",
       "    }\n",
       "\n",
       "    .dataframe tbody tr th {\n",
       "        vertical-align: top;\n",
       "    }\n",
       "\n",
       "    .dataframe thead th {\n",
       "        text-align: right;\n",
       "    }\n",
       "</style>\n",
       "<table border=\"1\" class=\"dataframe\">\n",
       "  <thead>\n",
       "    <tr style=\"text-align: right;\">\n",
       "      <th></th>\n",
       "    </tr>\n",
       "  </thead>\n",
       "  <tbody>\n",
       "  </tbody>\n",
       "</table>\n",
       "</div>"
      ],
      "text/plain": [
       "Empty DataFrame\n",
       "Columns: []\n",
       "Index: []"
      ]
     },
     "execution_count": 16,
     "metadata": {},
     "output_type": "execute_result"
    }
   ],
   "source": [
    "new_df.corr()"
   ]
  },
  {
   "cell_type": "code",
   "execution_count": null,
   "id": "4c811957",
   "metadata": {},
   "outputs": [],
   "source": []
  }
 ],
 "metadata": {
  "kernelspec": {
   "display_name": "Python 3 (ipykernel)",
   "language": "python",
   "name": "python3"
  },
  "language_info": {
   "codemirror_mode": {
    "name": "ipython",
    "version": 3
   },
   "file_extension": ".py",
   "mimetype": "text/x-python",
   "name": "python",
   "nbconvert_exporter": "python",
   "pygments_lexer": "ipython3",
   "version": "3.9.12"
  }
 },
 "nbformat": 4,
 "nbformat_minor": 5
}
